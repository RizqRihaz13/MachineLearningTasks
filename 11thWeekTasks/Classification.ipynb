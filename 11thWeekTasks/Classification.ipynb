{
  "nbformat": 4,
  "nbformat_minor": 0,
  "metadata": {
    "colab": {
      "provenance": [],
      "gpuType": "T4"
    },
    "kernelspec": {
      "name": "python3",
      "display_name": "Python 3"
    },
    "language_info": {
      "name": "python"
    },
    "accelerator": "GPU"
  },
  "cells": [
    {
      "cell_type": "markdown",
      "source": [
        "**Langkah 1: Membaca Data**\n",
        "\n",
        "Membaca file yang telah Anda unggah dan memahami strukturnya untuk mempersiapkan data dummy."
      ],
      "metadata": {
        "id": "xdh0pEKfWCam"
      }
    },
    {
      "cell_type": "code",
      "execution_count": 4,
      "metadata": {
        "colab": {
          "base_uri": "https://localhost:8080/",
          "height": 206
        },
        "id": "SePNIsMZVfRw",
        "outputId": "f1bbf210-0400-49d2-f1ab-49ded2ef43a9"
      },
      "outputs": [
        {
          "output_type": "execute_result",
          "data": {
            "text/plain": [
              "   age  sex  cp  trestbps  chol  fbs  restecg  thalach  exang  oldpeak  slope  \\\n",
              "0   52    1   0       125   212    0        1      168      0      1.0      2   \n",
              "1   53    1   0       140   203    1        0      155      1      3.1      0   \n",
              "2   70    1   0       145   174    0        1      125      1      2.6      0   \n",
              "3   61    1   0       148   203    0        1      161      0      0.0      2   \n",
              "4   62    0   0       138   294    1        1      106      0      1.9      1   \n",
              "\n",
              "   ca  thal  target  \n",
              "0   2     3       0  \n",
              "1   0     3       0  \n",
              "2   0     3       0  \n",
              "3   1     3       0  \n",
              "4   3     2       0  "
            ],
            "text/html": [
              "\n",
              "  <div id=\"df-14ff9cfc-5169-49ed-8f8b-dce93f6045d6\" class=\"colab-df-container\">\n",
              "    <div>\n",
              "<style scoped>\n",
              "    .dataframe tbody tr th:only-of-type {\n",
              "        vertical-align: middle;\n",
              "    }\n",
              "\n",
              "    .dataframe tbody tr th {\n",
              "        vertical-align: top;\n",
              "    }\n",
              "\n",
              "    .dataframe thead th {\n",
              "        text-align: right;\n",
              "    }\n",
              "</style>\n",
              "<table border=\"1\" class=\"dataframe\">\n",
              "  <thead>\n",
              "    <tr style=\"text-align: right;\">\n",
              "      <th></th>\n",
              "      <th>age</th>\n",
              "      <th>sex</th>\n",
              "      <th>cp</th>\n",
              "      <th>trestbps</th>\n",
              "      <th>chol</th>\n",
              "      <th>fbs</th>\n",
              "      <th>restecg</th>\n",
              "      <th>thalach</th>\n",
              "      <th>exang</th>\n",
              "      <th>oldpeak</th>\n",
              "      <th>slope</th>\n",
              "      <th>ca</th>\n",
              "      <th>thal</th>\n",
              "      <th>target</th>\n",
              "    </tr>\n",
              "  </thead>\n",
              "  <tbody>\n",
              "    <tr>\n",
              "      <th>0</th>\n",
              "      <td>52</td>\n",
              "      <td>1</td>\n",
              "      <td>0</td>\n",
              "      <td>125</td>\n",
              "      <td>212</td>\n",
              "      <td>0</td>\n",
              "      <td>1</td>\n",
              "      <td>168</td>\n",
              "      <td>0</td>\n",
              "      <td>1.0</td>\n",
              "      <td>2</td>\n",
              "      <td>2</td>\n",
              "      <td>3</td>\n",
              "      <td>0</td>\n",
              "    </tr>\n",
              "    <tr>\n",
              "      <th>1</th>\n",
              "      <td>53</td>\n",
              "      <td>1</td>\n",
              "      <td>0</td>\n",
              "      <td>140</td>\n",
              "      <td>203</td>\n",
              "      <td>1</td>\n",
              "      <td>0</td>\n",
              "      <td>155</td>\n",
              "      <td>1</td>\n",
              "      <td>3.1</td>\n",
              "      <td>0</td>\n",
              "      <td>0</td>\n",
              "      <td>3</td>\n",
              "      <td>0</td>\n",
              "    </tr>\n",
              "    <tr>\n",
              "      <th>2</th>\n",
              "      <td>70</td>\n",
              "      <td>1</td>\n",
              "      <td>0</td>\n",
              "      <td>145</td>\n",
              "      <td>174</td>\n",
              "      <td>0</td>\n",
              "      <td>1</td>\n",
              "      <td>125</td>\n",
              "      <td>1</td>\n",
              "      <td>2.6</td>\n",
              "      <td>0</td>\n",
              "      <td>0</td>\n",
              "      <td>3</td>\n",
              "      <td>0</td>\n",
              "    </tr>\n",
              "    <tr>\n",
              "      <th>3</th>\n",
              "      <td>61</td>\n",
              "      <td>1</td>\n",
              "      <td>0</td>\n",
              "      <td>148</td>\n",
              "      <td>203</td>\n",
              "      <td>0</td>\n",
              "      <td>1</td>\n",
              "      <td>161</td>\n",
              "      <td>0</td>\n",
              "      <td>0.0</td>\n",
              "      <td>2</td>\n",
              "      <td>1</td>\n",
              "      <td>3</td>\n",
              "      <td>0</td>\n",
              "    </tr>\n",
              "    <tr>\n",
              "      <th>4</th>\n",
              "      <td>62</td>\n",
              "      <td>0</td>\n",
              "      <td>0</td>\n",
              "      <td>138</td>\n",
              "      <td>294</td>\n",
              "      <td>1</td>\n",
              "      <td>1</td>\n",
              "      <td>106</td>\n",
              "      <td>0</td>\n",
              "      <td>1.9</td>\n",
              "      <td>1</td>\n",
              "      <td>3</td>\n",
              "      <td>2</td>\n",
              "      <td>0</td>\n",
              "    </tr>\n",
              "  </tbody>\n",
              "</table>\n",
              "</div>\n",
              "    <div class=\"colab-df-buttons\">\n",
              "\n",
              "  <div class=\"colab-df-container\">\n",
              "    <button class=\"colab-df-convert\" onclick=\"convertToInteractive('df-14ff9cfc-5169-49ed-8f8b-dce93f6045d6')\"\n",
              "            title=\"Convert this dataframe to an interactive table.\"\n",
              "            style=\"display:none;\">\n",
              "\n",
              "  <svg xmlns=\"http://www.w3.org/2000/svg\" height=\"24px\" viewBox=\"0 -960 960 960\">\n",
              "    <path d=\"M120-120v-720h720v720H120Zm60-500h600v-160H180v160Zm220 220h160v-160H400v160Zm0 220h160v-160H400v160ZM180-400h160v-160H180v160Zm440 0h160v-160H620v160ZM180-180h160v-160H180v160Zm440 0h160v-160H620v160Z\"/>\n",
              "  </svg>\n",
              "    </button>\n",
              "\n",
              "  <style>\n",
              "    .colab-df-container {\n",
              "      display:flex;\n",
              "      gap: 12px;\n",
              "    }\n",
              "\n",
              "    .colab-df-convert {\n",
              "      background-color: #E8F0FE;\n",
              "      border: none;\n",
              "      border-radius: 50%;\n",
              "      cursor: pointer;\n",
              "      display: none;\n",
              "      fill: #1967D2;\n",
              "      height: 32px;\n",
              "      padding: 0 0 0 0;\n",
              "      width: 32px;\n",
              "    }\n",
              "\n",
              "    .colab-df-convert:hover {\n",
              "      background-color: #E2EBFA;\n",
              "      box-shadow: 0px 1px 2px rgba(60, 64, 67, 0.3), 0px 1px 3px 1px rgba(60, 64, 67, 0.15);\n",
              "      fill: #174EA6;\n",
              "    }\n",
              "\n",
              "    .colab-df-buttons div {\n",
              "      margin-bottom: 4px;\n",
              "    }\n",
              "\n",
              "    [theme=dark] .colab-df-convert {\n",
              "      background-color: #3B4455;\n",
              "      fill: #D2E3FC;\n",
              "    }\n",
              "\n",
              "    [theme=dark] .colab-df-convert:hover {\n",
              "      background-color: #434B5C;\n",
              "      box-shadow: 0px 1px 3px 1px rgba(0, 0, 0, 0.15);\n",
              "      filter: drop-shadow(0px 1px 2px rgba(0, 0, 0, 0.3));\n",
              "      fill: #FFFFFF;\n",
              "    }\n",
              "  </style>\n",
              "\n",
              "    <script>\n",
              "      const buttonEl =\n",
              "        document.querySelector('#df-14ff9cfc-5169-49ed-8f8b-dce93f6045d6 button.colab-df-convert');\n",
              "      buttonEl.style.display =\n",
              "        google.colab.kernel.accessAllowed ? 'block' : 'none';\n",
              "\n",
              "      async function convertToInteractive(key) {\n",
              "        const element = document.querySelector('#df-14ff9cfc-5169-49ed-8f8b-dce93f6045d6');\n",
              "        const dataTable =\n",
              "          await google.colab.kernel.invokeFunction('convertToInteractive',\n",
              "                                                    [key], {});\n",
              "        if (!dataTable) return;\n",
              "\n",
              "        const docLinkHtml = 'Like what you see? Visit the ' +\n",
              "          '<a target=\"_blank\" href=https://colab.research.google.com/notebooks/data_table.ipynb>data table notebook</a>'\n",
              "          + ' to learn more about interactive tables.';\n",
              "        element.innerHTML = '';\n",
              "        dataTable['output_type'] = 'display_data';\n",
              "        await google.colab.output.renderOutput(dataTable, element);\n",
              "        const docLink = document.createElement('div');\n",
              "        docLink.innerHTML = docLinkHtml;\n",
              "        element.appendChild(docLink);\n",
              "      }\n",
              "    </script>\n",
              "  </div>\n",
              "\n",
              "\n",
              "<div id=\"df-651e19da-4b84-4a1c-8fa9-3b22ec15da75\">\n",
              "  <button class=\"colab-df-quickchart\" onclick=\"quickchart('df-651e19da-4b84-4a1c-8fa9-3b22ec15da75')\"\n",
              "            title=\"Suggest charts\"\n",
              "            style=\"display:none;\">\n",
              "\n",
              "<svg xmlns=\"http://www.w3.org/2000/svg\" height=\"24px\"viewBox=\"0 0 24 24\"\n",
              "     width=\"24px\">\n",
              "    <g>\n",
              "        <path d=\"M19 3H5c-1.1 0-2 .9-2 2v14c0 1.1.9 2 2 2h14c1.1 0 2-.9 2-2V5c0-1.1-.9-2-2-2zM9 17H7v-7h2v7zm4 0h-2V7h2v10zm4 0h-2v-4h2v4z\"/>\n",
              "    </g>\n",
              "</svg>\n",
              "  </button>\n",
              "\n",
              "<style>\n",
              "  .colab-df-quickchart {\n",
              "      --bg-color: #E8F0FE;\n",
              "      --fill-color: #1967D2;\n",
              "      --hover-bg-color: #E2EBFA;\n",
              "      --hover-fill-color: #174EA6;\n",
              "      --disabled-fill-color: #AAA;\n",
              "      --disabled-bg-color: #DDD;\n",
              "  }\n",
              "\n",
              "  [theme=dark] .colab-df-quickchart {\n",
              "      --bg-color: #3B4455;\n",
              "      --fill-color: #D2E3FC;\n",
              "      --hover-bg-color: #434B5C;\n",
              "      --hover-fill-color: #FFFFFF;\n",
              "      --disabled-bg-color: #3B4455;\n",
              "      --disabled-fill-color: #666;\n",
              "  }\n",
              "\n",
              "  .colab-df-quickchart {\n",
              "    background-color: var(--bg-color);\n",
              "    border: none;\n",
              "    border-radius: 50%;\n",
              "    cursor: pointer;\n",
              "    display: none;\n",
              "    fill: var(--fill-color);\n",
              "    height: 32px;\n",
              "    padding: 0;\n",
              "    width: 32px;\n",
              "  }\n",
              "\n",
              "  .colab-df-quickchart:hover {\n",
              "    background-color: var(--hover-bg-color);\n",
              "    box-shadow: 0 1px 2px rgba(60, 64, 67, 0.3), 0 1px 3px 1px rgba(60, 64, 67, 0.15);\n",
              "    fill: var(--button-hover-fill-color);\n",
              "  }\n",
              "\n",
              "  .colab-df-quickchart-complete:disabled,\n",
              "  .colab-df-quickchart-complete:disabled:hover {\n",
              "    background-color: var(--disabled-bg-color);\n",
              "    fill: var(--disabled-fill-color);\n",
              "    box-shadow: none;\n",
              "  }\n",
              "\n",
              "  .colab-df-spinner {\n",
              "    border: 2px solid var(--fill-color);\n",
              "    border-color: transparent;\n",
              "    border-bottom-color: var(--fill-color);\n",
              "    animation:\n",
              "      spin 1s steps(1) infinite;\n",
              "  }\n",
              "\n",
              "  @keyframes spin {\n",
              "    0% {\n",
              "      border-color: transparent;\n",
              "      border-bottom-color: var(--fill-color);\n",
              "      border-left-color: var(--fill-color);\n",
              "    }\n",
              "    20% {\n",
              "      border-color: transparent;\n",
              "      border-left-color: var(--fill-color);\n",
              "      border-top-color: var(--fill-color);\n",
              "    }\n",
              "    30% {\n",
              "      border-color: transparent;\n",
              "      border-left-color: var(--fill-color);\n",
              "      border-top-color: var(--fill-color);\n",
              "      border-right-color: var(--fill-color);\n",
              "    }\n",
              "    40% {\n",
              "      border-color: transparent;\n",
              "      border-right-color: var(--fill-color);\n",
              "      border-top-color: var(--fill-color);\n",
              "    }\n",
              "    60% {\n",
              "      border-color: transparent;\n",
              "      border-right-color: var(--fill-color);\n",
              "    }\n",
              "    80% {\n",
              "      border-color: transparent;\n",
              "      border-right-color: var(--fill-color);\n",
              "      border-bottom-color: var(--fill-color);\n",
              "    }\n",
              "    90% {\n",
              "      border-color: transparent;\n",
              "      border-bottom-color: var(--fill-color);\n",
              "    }\n",
              "  }\n",
              "</style>\n",
              "\n",
              "  <script>\n",
              "    async function quickchart(key) {\n",
              "      const quickchartButtonEl =\n",
              "        document.querySelector('#' + key + ' button');\n",
              "      quickchartButtonEl.disabled = true;  // To prevent multiple clicks.\n",
              "      quickchartButtonEl.classList.add('colab-df-spinner');\n",
              "      try {\n",
              "        const charts = await google.colab.kernel.invokeFunction(\n",
              "            'suggestCharts', [key], {});\n",
              "      } catch (error) {\n",
              "        console.error('Error during call to suggestCharts:', error);\n",
              "      }\n",
              "      quickchartButtonEl.classList.remove('colab-df-spinner');\n",
              "      quickchartButtonEl.classList.add('colab-df-quickchart-complete');\n",
              "    }\n",
              "    (() => {\n",
              "      let quickchartButtonEl =\n",
              "        document.querySelector('#df-651e19da-4b84-4a1c-8fa9-3b22ec15da75 button');\n",
              "      quickchartButtonEl.style.display =\n",
              "        google.colab.kernel.accessAllowed ? 'block' : 'none';\n",
              "    })();\n",
              "  </script>\n",
              "</div>\n",
              "\n",
              "    </div>\n",
              "  </div>\n"
            ],
            "application/vnd.google.colaboratory.intrinsic+json": {
              "type": "dataframe",
              "variable_name": "data",
              "summary": "{\n  \"name\": \"data\",\n  \"rows\": 1025,\n  \"fields\": [\n    {\n      \"column\": \"age\",\n      \"properties\": {\n        \"dtype\": \"number\",\n        \"std\": 9,\n        \"min\": 29,\n        \"max\": 77,\n        \"num_unique_values\": 41,\n        \"samples\": [\n          65,\n          50,\n          54\n        ],\n        \"semantic_type\": \"\",\n        \"description\": \"\"\n      }\n    },\n    {\n      \"column\": \"sex\",\n      \"properties\": {\n        \"dtype\": \"number\",\n        \"std\": 0,\n        \"min\": 0,\n        \"max\": 1,\n        \"num_unique_values\": 2,\n        \"samples\": [\n          0,\n          1\n        ],\n        \"semantic_type\": \"\",\n        \"description\": \"\"\n      }\n    },\n    {\n      \"column\": \"cp\",\n      \"properties\": {\n        \"dtype\": \"number\",\n        \"std\": 1,\n        \"min\": 0,\n        \"max\": 3,\n        \"num_unique_values\": 4,\n        \"samples\": [\n          1,\n          3\n        ],\n        \"semantic_type\": \"\",\n        \"description\": \"\"\n      }\n    },\n    {\n      \"column\": \"trestbps\",\n      \"properties\": {\n        \"dtype\": \"number\",\n        \"std\": 17,\n        \"min\": 94,\n        \"max\": 200,\n        \"num_unique_values\": 49,\n        \"samples\": [\n          128,\n          172\n        ],\n        \"semantic_type\": \"\",\n        \"description\": \"\"\n      }\n    },\n    {\n      \"column\": \"chol\",\n      \"properties\": {\n        \"dtype\": \"number\",\n        \"std\": 51,\n        \"min\": 126,\n        \"max\": 564,\n        \"num_unique_values\": 152,\n        \"samples\": [\n          267,\n          262\n        ],\n        \"semantic_type\": \"\",\n        \"description\": \"\"\n      }\n    },\n    {\n      \"column\": \"fbs\",\n      \"properties\": {\n        \"dtype\": \"number\",\n        \"std\": 0,\n        \"min\": 0,\n        \"max\": 1,\n        \"num_unique_values\": 2,\n        \"samples\": [\n          1,\n          0\n        ],\n        \"semantic_type\": \"\",\n        \"description\": \"\"\n      }\n    },\n    {\n      \"column\": \"restecg\",\n      \"properties\": {\n        \"dtype\": \"number\",\n        \"std\": 0,\n        \"min\": 0,\n        \"max\": 2,\n        \"num_unique_values\": 3,\n        \"samples\": [\n          1,\n          0\n        ],\n        \"semantic_type\": \"\",\n        \"description\": \"\"\n      }\n    },\n    {\n      \"column\": \"thalach\",\n      \"properties\": {\n        \"dtype\": \"number\",\n        \"std\": 23,\n        \"min\": 71,\n        \"max\": 202,\n        \"num_unique_values\": 91,\n        \"samples\": [\n          180,\n          152\n        ],\n        \"semantic_type\": \"\",\n        \"description\": \"\"\n      }\n    },\n    {\n      \"column\": \"exang\",\n      \"properties\": {\n        \"dtype\": \"number\",\n        \"std\": 0,\n        \"min\": 0,\n        \"max\": 1,\n        \"num_unique_values\": 2,\n        \"samples\": [\n          1,\n          0\n        ],\n        \"semantic_type\": \"\",\n        \"description\": \"\"\n      }\n    },\n    {\n      \"column\": \"oldpeak\",\n      \"properties\": {\n        \"dtype\": \"number\",\n        \"std\": 1.175053255150173,\n        \"min\": 0.0,\n        \"max\": 6.2,\n        \"num_unique_values\": 40,\n        \"samples\": [\n          2.8,\n          0.4\n        ],\n        \"semantic_type\": \"\",\n        \"description\": \"\"\n      }\n    },\n    {\n      \"column\": \"slope\",\n      \"properties\": {\n        \"dtype\": \"number\",\n        \"std\": 0,\n        \"min\": 0,\n        \"max\": 2,\n        \"num_unique_values\": 3,\n        \"samples\": [\n          2,\n          0\n        ],\n        \"semantic_type\": \"\",\n        \"description\": \"\"\n      }\n    },\n    {\n      \"column\": \"ca\",\n      \"properties\": {\n        \"dtype\": \"number\",\n        \"std\": 1,\n        \"min\": 0,\n        \"max\": 4,\n        \"num_unique_values\": 5,\n        \"samples\": [\n          0,\n          4\n        ],\n        \"semantic_type\": \"\",\n        \"description\": \"\"\n      }\n    },\n    {\n      \"column\": \"thal\",\n      \"properties\": {\n        \"dtype\": \"number\",\n        \"std\": 0,\n        \"min\": 0,\n        \"max\": 3,\n        \"num_unique_values\": 4,\n        \"samples\": [\n          2,\n          0\n        ],\n        \"semantic_type\": \"\",\n        \"description\": \"\"\n      }\n    },\n    {\n      \"column\": \"target\",\n      \"properties\": {\n        \"dtype\": \"number\",\n        \"std\": 0,\n        \"min\": 0,\n        \"max\": 1,\n        \"num_unique_values\": 2,\n        \"samples\": [\n          1,\n          0\n        ],\n        \"semantic_type\": \"\",\n        \"description\": \"\"\n      }\n    }\n  ]\n}"
            }
          },
          "metadata": {},
          "execution_count": 4
        }
      ],
      "source": [
        "import pandas as pd\n",
        "\n",
        "# Membaca dataset\n",
        "file_path = '/content/heart.csv'\n",
        "data = pd.read_csv(file_path)\n",
        "\n",
        "# Menampilkan 5 baris pertama untuk memahami struktur data\n",
        "data.head()"
      ]
    },
    {
      "cell_type": "markdown",
      "source": [
        "Dataset ini terdiri dari fitur-fitur numerik dan target klasifikasi yang bernilai 0 atau 1."
      ],
      "metadata": {
        "id": "Fzy5U2U5WdBR"
      }
    },
    {
      "cell_type": "markdown",
      "source": [
        "Langkah berikutnya adalah melakukan preprocessing data sebelum kita membuat model.\n",
        "\n",
        "**Langkah 2: Preprocessing Data**\n",
        "\n",
        "1. Pisahkan fitur (X) dan target (y).\n",
        "2. Normalisasi data untuk mempercepat konvergensi.\n",
        "3. Bagi data menjadi set pelatihan dan pengujian."
      ],
      "metadata": {
        "id": "i_IFUqUFWg4w"
      }
    },
    {
      "cell_type": "code",
      "source": [
        "from sklearn.model_selection import train_test_split\n",
        "from sklearn.preprocessing import StandardScaler\n",
        "\n",
        "# Memisahkan fitur (X) dan target (y)\n",
        "X = data.drop(columns=['target'])\n",
        "y = data['target']\n",
        "\n",
        "# Normalisasi fitur\n",
        "scaler = StandardScaler()\n",
        "X_normalized = scaler.fit_transform(X)\n",
        "\n",
        "# Membagi data menjadi train dan test set\n",
        "X_train, X_test, y_train, y_test = train_test_split(X_normalized, y, test_size=0.2, random_state=42)\n",
        "\n",
        "# Menampilkan bentuk data setelah dibagi\n",
        "X_train.shape, X_test.shape, y_train.shape, y_test.shape\n"
      ],
      "metadata": {
        "colab": {
          "base_uri": "https://localhost:8080/"
        },
        "id": "wP92a_Y2WeVD",
        "outputId": "0f7f5ef2-9aa3-4c9b-e051-e2b25971b814"
      },
      "execution_count": 2,
      "outputs": [
        {
          "output_type": "execute_result",
          "data": {
            "text/plain": [
              "((820, 13), (205, 13), (820,), (205,))"
            ]
          },
          "metadata": {},
          "execution_count": 2
        }
      ]
    },
    {
      "cell_type": "markdown",
      "source": [
        "Data telah berhasil dibagi menjadi set pelatihan dan pengujian dengan proporsi 80:20. Set pelatihan memiliki 820 sampel, dan set pengujian memiliki 205 sampel, dengan 13 fitur masing-masing."
      ],
      "metadata": {
        "id": "-5yudWb2WwOt"
      }
    },
    {
      "cell_type": "markdown",
      "source": [
        "**Langkah 3: Membangun Model MLP**\n",
        "\n",
        "Membangun model Multilayer Perceptron (MLP) menggunakan PyTorch dan mencoba beberapa konfigurasi:\n",
        "\n",
        "1. Jumlah hidden layer (1, 2, 3).\n",
        "\n",
        "2. Jumlah neuron per layer (4, 8, 16, 32, 64,...).\n",
        "\n",
        "3. Fungsi aktivasi (linear, sigmoid, ReLU, softmax, tanh).\n",
        "\n",
        "4. Jumlah epoch (1, 10, 25, 50, 100, 250).\n",
        "\n",
        "5. Learning rate (10, 1, 0.1, 0.01, 0.001, 0.0001).\n",
        "\n",
        "6. Ukuran batch (16, 32, 64, 128, 256, 512)."
      ],
      "metadata": {
        "id": "V8l_SxXqWzEn"
      }
    },
    {
      "cell_type": "code",
      "source": [
        "import torch\n",
        "import torch.nn as nn\n",
        "import torch.optim as optim\n",
        "from torch.utils.data import DataLoader, TensorDataset\n",
        "\n",
        "# Konversi data ke Tensor\n",
        "X_train_tensor = torch.tensor(X_train, dtype=torch.float32)\n",
        "y_train_tensor = torch.tensor(y_train.values, dtype=torch.long)\n",
        "X_test_tensor = torch.tensor(X_test, dtype=torch.float32)\n",
        "y_test_tensor = torch.tensor(y_test.values, dtype=torch.long)\n",
        "\n",
        "# Dataset dan DataLoader\n",
        "train_dataset = TensorDataset(X_train_tensor, y_train_tensor)\n",
        "test_dataset = TensorDataset(X_test_tensor, y_test_tensor)\n",
        "\n",
        "# Fungsi untuk membuat model dinamis MLP\n",
        "class MLPModel(nn.Module):\n",
        "    def __init__(self, input_size, hidden_layers, neurons_per_layer, activation_function):\n",
        "        super(MLPModel, self).__init__()\n",
        "        layers = []\n",
        "        in_features = input_size\n",
        "\n",
        "        # Menambahkan hidden layers\n",
        "        for _ in range(hidden_layers):\n",
        "            layers.append(nn.Linear(in_features, neurons_per_layer))\n",
        "            layers.append(activation_function())\n",
        "            in_features = neurons_per_layer\n",
        "\n",
        "        # Menambahkan output layer\n",
        "        layers.append(nn.Linear(neurons_per_layer, 2))  # 2 kelas output\n",
        "        self.model = nn.Sequential(*layers)\n",
        "\n",
        "    def forward(self, x):\n",
        "        return self.model(x)\n",
        "\n",
        "# Menampilkan konfigurasi awal\n",
        "input_size = X_train.shape[1]\n",
        "hidden_layers = 1\n",
        "neurons_per_layer = 8\n",
        "activation_function = nn.ReLU\n",
        "\n",
        "# Membuat model awal\n",
        "model = MLPModel(input_size, hidden_layers, neurons_per_layer, activation_function)\n",
        "model\n"
      ],
      "metadata": {
        "colab": {
          "base_uri": "https://localhost:8080/"
        },
        "id": "KWiGxe3uXEAh",
        "outputId": "7ded9f8f-e905-405c-8c16-766420a56fe4"
      },
      "execution_count": 3,
      "outputs": [
        {
          "output_type": "execute_result",
          "data": {
            "text/plain": [
              "MLPModel(\n",
              "  (model): Sequential(\n",
              "    (0): Linear(in_features=13, out_features=8, bias=True)\n",
              "    (1): ReLU()\n",
              "    (2): Linear(in_features=8, out_features=2, bias=True)\n",
              "  )\n",
              ")"
            ]
          },
          "metadata": {},
          "execution_count": 3
        }
      ]
    },
    {
      "cell_type": "markdown",
      "source": [
        "Arsitektur ini sederhana dan terdiri dari satu hidden layer dengan 8 neuron serta fungsi aktivasi ReLU.\n",
        "\n",
        "Model ini siap untuk dilatih, dan konfigurasi lain (jumlah layer, neuron, fungsi aktivasi, dll.) dapat diuji untuk membandingkan performa."
      ],
      "metadata": {
        "id": "F_dCApTNXYeL"
      }
    },
    {
      "cell_type": "markdown",
      "source": [
        "Langkah 4: Pelatihan dan Evaluasi Model\n",
        "\n",
        "Kita akan melatih model dengan data pelatihan menggunakan berbagai konfigurasi seperti jumlah epoch, learning rate, dan batch size. Setelah itu, kita akan mengevaluasi performa model menggunakan data pengujian.\n",
        "\n",
        "Persiapan Fungsi Pelatihan dan Evaluasi\n",
        "\n",
        "Kita perlu:\n",
        "\n",
        "1. Loss function: Menggunakan CrossEntropyLoss karena ini adalah tugas klasifikasi.\n",
        "\n",
        "2. Optimizer: Adam optimizer untuk mengoptimalkan parameter model.\n",
        "\n",
        "3. Fungsi evaluasi: Menghitung akurasi untuk menilai performa model."
      ],
      "metadata": {
        "id": "gzN5hnrFXbmk"
      }
    },
    {
      "cell_type": "code",
      "source": [
        "# Fungsi pelatihan model\n",
        "def train_model(model, train_loader, test_loader, criterion, optimizer, num_epochs, device):\n",
        "    model.to(device)\n",
        "    train_loss_history = []\n",
        "    test_accuracy_history = []\n",
        "\n",
        "    for epoch in range(num_epochs):\n",
        "        model.train()\n",
        "        total_loss = 0\n",
        "        for X_batch, y_batch in train_loader:\n",
        "            X_batch, y_batch = X_batch.to(device), y_batch.to(device)\n",
        "\n",
        "            # Forward pass\n",
        "            outputs = model(X_batch)\n",
        "            loss = criterion(outputs, y_batch)\n",
        "\n",
        "            # Backward pass dan update parameter\n",
        "            optimizer.zero_grad()\n",
        "            loss.backward()\n",
        "            optimizer.step()\n",
        "\n",
        "            total_loss += loss.item()\n",
        "\n",
        "        train_loss_history.append(total_loss / len(train_loader))\n",
        "\n",
        "        # Evaluasi pada data pengujian\n",
        "        model.eval()\n",
        "        correct = 0\n",
        "        total = 0\n",
        "        with torch.no_grad():\n",
        "            for X_batch, y_batch in test_loader:\n",
        "                X_batch, y_batch = X_batch.to(device), y_batch.to(device)\n",
        "                outputs = model(X_batch)\n",
        "                _, predicted = torch.max(outputs, 1)\n",
        "                total += y_batch.size(0)\n",
        "                correct += (predicted == y_batch).sum().item()\n",
        "\n",
        "        accuracy = correct / total\n",
        "        test_accuracy_history.append(accuracy)\n",
        "\n",
        "    return train_loss_history, test_accuracy_history\n",
        "\n",
        "# Fungsi untuk mempersiapkan DataLoader\n",
        "def get_data_loaders(batch_size):\n",
        "    train_loader = DataLoader(train_dataset, batch_size=batch_size, shuffle=True)\n",
        "    test_loader = DataLoader(test_dataset, batch_size=batch_size, shuffle=False)\n",
        "    return train_loader, test_loader\n",
        "\n",
        "# Inisialisasi perangkat (CPU atau GPU)\n",
        "device = torch.device('cuda' if torch.cuda.is_available() else 'cpu')\n",
        "\n",
        "# Konfigurasi awal parameter\n",
        "batch_size = 32\n",
        "learning_rate = 0.01\n",
        "num_epochs = 10\n",
        "\n",
        "# DataLoader\n",
        "train_loader, test_loader = get_data_loaders(batch_size)\n",
        "\n",
        "# Inisialisasi ulang model\n",
        "model = MLPModel(input_size, hidden_layers=1, neurons_per_layer=8, activation_function=nn.ReLU)\n",
        "criterion = nn.CrossEntropyLoss()\n",
        "optimizer = optim.Adam(model.parameters(), lr=learning_rate)\n",
        "\n",
        "# Melatih model\n",
        "train_loss, test_accuracy = train_model(model, train_loader, test_loader, criterion, optimizer, num_epochs, device)\n",
        "\n",
        "# Menampilkan hasil\n",
        "train_loss, test_accuracy[-1]  # Loss pelatihan dan akurasi pengujian terakhir\n"
      ],
      "metadata": {
        "colab": {
          "base_uri": "https://localhost:8080/"
        },
        "id": "nTRy04c-X8Ms",
        "outputId": "9993f574-fac2-4f56-eeb6-08e2e7a7adcd"
      },
      "execution_count": 5,
      "outputs": [
        {
          "output_type": "execute_result",
          "data": {
            "text/plain": [
              "([0.4993954501472987,\n",
              "  0.3297093097980206,\n",
              "  0.29853450506925583,\n",
              "  0.28719854010985446,\n",
              "  0.28037457110790104,\n",
              "  0.26615519936268145,\n",
              "  0.2561918325149096,\n",
              "  0.2509762719273567,\n",
              "  0.2415362109358494,\n",
              "  0.23458642713152444],\n",
              " 0.8780487804878049)"
            ]
          },
          "metadata": {},
          "execution_count": 5
        }
      ]
    },
    {
      "cell_type": "markdown",
      "source": [
        "Dari hasil yang ditampilkan dalam bentuk array, tampaknya nilai tersebut menunjukkan akurasi model atau metrik lainnya (misalnya loss) pada setiap iterasi atau epoch. Analisis singkat:\n",
        "\n",
        "1. Trend yang Menurun: Nilai cenderung menurun secara bertahap hingga mencapai titik tertentu (kecuali nilai terakhir, yang tampak lebih tinggi). Ini mungkin menunjukkan bahwa model mengalami kesulitan untuk belajar lebih baik, atau terjadi overfitting.\n",
        "\n",
        "2. Peningkatan Akhir: Nilai terakhir jauh lebih tinggi daripada sebelumnya (sekitar 0.87), yang mungkin mengindikasikan adanya perbaikan performa setelah perubahan parameter model (misalnya, learning rate, batch size, atau epoch tambahan).\n",
        "\n",
        "**Kesimpulan**\n",
        "\n",
        "1. Jika nilai ini adalah loss, maka trend menurun menunjukkan bahwa model sedang belajar dengan baik.\n",
        "\n",
        "2. Jika nilai ini adalah akurasi, maka model menunjukkan peningkatan performa yang signifikan pada iterasi terakhir, yang perlu dianalisis lebih lanjut."
      ],
      "metadata": {
        "id": "0-22AvaIYU_u"
      }
    },
    {
      "cell_type": "markdown",
      "source": [
        "**Langkah 5: Eksperimen Parameter**\n",
        "\n",
        "Kita akan mengeksplorasi parameter utama model:\n",
        "\n",
        "1. Hidden Layer: Variasi jumlah hidden layer (1, 2, 3).\n",
        "2. Jumlah Neuron: Variasi jumlah neuron per layer (4, 8, 16, 32, 64).\n",
        "3. Fungsi Aktivasi: Linear, Sigmoid, ReLU, Softmax, Tanh.\n",
        "4. Jumlah Epoch: 1, 10, 25, 50, 100, 250.\n",
        "5. Learning Rate: 10, 1, 0.1, 0.01, 0.001, 0.0001.\n",
        "6. Ukuran Batch: 16, 32, 64, 128, 256, 512.\n",
        "\n",
        "**Eksperimen Hidden Layer dan Jumlah Neuron**\n",
        "\n",
        "Kita akan mencoba kombinasi jumlah hidden layer (1, 2, 3) dengan jumlah neuron yang berbeda untuk memahami pengaruhnya terhadap akurasi."
      ],
      "metadata": {
        "id": "7poIIiL7YvLf"
      }
    },
    {
      "cell_type": "code",
      "source": [
        "hidden_layer_variations = [1, 2, 3]\n",
        "neuron_variations = [4, 8, 16, 32, 64]\n",
        "activation_function = nn.ReLU  # Aktivasi default\n",
        "\n",
        "results = []\n",
        "\n",
        "for hidden_layers in hidden_layer_variations:\n",
        "    for neurons in neuron_variations:\n",
        "        model = MLPModel(input_size, hidden_layers, neurons, activation_function)\n",
        "        criterion = nn.CrossEntropyLoss()\n",
        "        optimizer = optim.Adam(model.parameters(), lr=learning_rate)\n",
        "        train_loss, test_accuracy = train_model(model, train_loader, test_loader, criterion, optimizer, num_epochs, device)\n",
        "\n",
        "        results.append({\n",
        "            \"hidden_layers\": hidden_layers,\n",
        "            \"neurons\": neurons,\n",
        "            \"final_accuracy\": test_accuracy[-1]\n",
        "        })\n",
        "\n",
        "# Konversi hasil ke DataFrame untuk analisis\n",
        "import pandas as pd\n",
        "results_df = pd.DataFrame(results)\n",
        "print(results_df)\n"
      ],
      "metadata": {
        "colab": {
          "base_uri": "https://localhost:8080/"
        },
        "id": "YClDx5tRZRxC",
        "outputId": "447d16c3-8166-428f-9e72-d1ed0f65aebf"
      },
      "execution_count": 6,
      "outputs": [
        {
          "output_type": "stream",
          "name": "stdout",
          "text": [
            "    hidden_layers  neurons  final_accuracy\n",
            "0               1        4        0.819512\n",
            "1               1        8        0.848780\n",
            "2               1       16        0.892683\n",
            "3               1       32        0.907317\n",
            "4               1       64        0.921951\n",
            "5               2        4        0.843902\n",
            "6               2        8        0.873171\n",
            "7               2       16        0.878049\n",
            "8               2       32        0.980488\n",
            "9               2       64        0.965854\n",
            "10              3        4        0.848780\n",
            "11              3        8        0.848780\n",
            "12              3       16        0.926829\n",
            "13              3       32        0.951220\n",
            "14              3       64        0.956098\n"
          ]
        }
      ]
    },
    {
      "cell_type": "markdown",
      "source": [
        "**Dari tabel hasil eksperimen :**\n",
        "\n",
        "**1. Pengaruh Jumlah Hidden Layers:**\n",
        "\n",
        "- Dengan 1 hidden layer, performa model cukup baik, dengan akurasi meningkat saat jumlah neuron bertambah hingga 32 atau 64.\n",
        "\n",
        "- Dengan 2 hidden layers, akurasi secara umum lebih tinggi, terutama dengan jumlah neuron 32, mencapai akurasi tertinggi di tabel (0.980488).\n",
        "\n",
        "- Dengan 3 hidden layers, performa tetap kompetitif, tetapi sedikit menurun jika dibandingkan dengan 2 hidden layers, kecuali pada jumlah neuron yang lebih besar seperti 32 dan 64.\n",
        "\n",
        "**2. Pengaruh Jumlah Neuron:**\n",
        "\n",
        "- Secara umum, menambahkan lebih banyak neuron (hingga 32 atau 64) meningkatkan akurasi.\n",
        "\n",
        "- Terlalu sedikit neuron (4 atau 8) cenderung menghasilkan akurasi lebih rendah, terutama dengan lebih banyak hidden layers.\n",
        "\n",
        "**3. Performa Tertinggi:**\n",
        "\n",
        "- Kombinasi terbaik di tabel adalah 2 hidden layers dengan 32 neuron, menghasilkan akurasi 0.980488.\n",
        "\n",
        "**4. Dampak Overfitting:**\n",
        "\n",
        "- Tidak terlihat tanda jelas overfitting, tetapi akurasi dengan 3 hidden layers dan jumlah neuron besar (64) tetap sedikit lebih rendah dibandingkan 2 hidden layers dengan jumlah neuron yang sama.\n",
        "\n",
        "**Kesimpulan:**\n",
        "\n",
        "- 2 hidden layers dengan 32 neuron adalah konfigurasi yang optimal dalam eksperimen ini.\n",
        "\n",
        "- Menambahkan lebih banyak hidden layers atau neuron memberikan sedikit peningkatan tetapi dengan risiko kompleksitas yang lebih tinggi."
      ],
      "metadata": {
        "id": "L9XAS_WXZik2"
      }
    },
    {
      "cell_type": "markdown",
      "source": [
        "**Eksperimen Fungsi Aktivasi**\n",
        "\n",
        "Sekarang kita akan mencoba berbagai fungsi aktivasi (linear, sigmoid, ReLU, softmax, tanh) untuk melihat mana yang memberikan performa terbaik."
      ],
      "metadata": {
        "id": "4tIs5ld4ZjZ-"
      }
    },
    {
      "cell_type": "code",
      "source": [
        "activation_functions = [nn.Identity, nn.Sigmoid, nn.ReLU, nn.Softmax, nn.Tanh]\n",
        "hidden_layers = 2\n",
        "neurons = 16\n",
        "\n",
        "activation_results = []\n",
        "\n",
        "for activation in activation_functions:\n",
        "    model = MLPModel(input_size, hidden_layers, neurons, activation)\n",
        "    criterion = nn.CrossEntropyLoss()\n",
        "    optimizer = optim.Adam(model.parameters(), lr=learning_rate)\n",
        "    train_loss, test_accuracy = train_model(model, train_loader, test_loader, criterion, optimizer, num_epochs, device)\n",
        "\n",
        "    activation_results.append({\n",
        "        \"activation_function\": activation.__name__,\n",
        "        \"final_accuracy\": test_accuracy[-1]\n",
        "    })\n",
        "\n",
        "# Konversi hasil ke DataFrame\n",
        "activation_results_df = pd.DataFrame(activation_results)\n",
        "print(activation_results_df)\n"
      ],
      "metadata": {
        "colab": {
          "base_uri": "https://localhost:8080/"
        },
        "id": "0hDDr2rAZlRo",
        "outputId": "dadcbb3e-4c4b-437a-d065-ac42136dba50"
      },
      "execution_count": 7,
      "outputs": [
        {
          "output_type": "stream",
          "name": "stderr",
          "text": [
            "/usr/local/lib/python3.10/dist-packages/torch/nn/modules/module.py:1736: UserWarning: Implicit dimension choice for softmax has been deprecated. Change the call to include dim=X as an argument.\n",
            "  return self._call_impl(*args, **kwargs)\n"
          ]
        },
        {
          "output_type": "stream",
          "name": "stdout",
          "text": [
            "  activation_function  final_accuracy\n",
            "0            Identity        0.795122\n",
            "1             Sigmoid        0.795122\n",
            "2                ReLU        0.902439\n",
            "3             Softmax        0.868293\n",
            "4                Tanh        0.873171\n"
          ]
        }
      ]
    },
    {
      "cell_type": "markdown",
      "source": [
        "**Dari tabel hasil eksperimen fungsi aktivasi**\n",
        "\n",
        "**1. Fungsi Aktivasi Identity dan Sigmoid:**\n",
        "\n",
        "- Keduanya memberikan akurasi yang sama, yaitu 0.795122, yang relatif rendah dibandingkan fungsi aktivasi lainnya.\n",
        "\n",
        "- Hal ini menunjukkan bahwa fungsi aktivasi ini kurang cocok untuk arsitektur model dan data ini.\n",
        "\n",
        "**2. Fungsi Aktivasi ReLU:**\n",
        "\n",
        "- Memberikan akurasi tertinggi, yaitu 0.902439.\n",
        "\n",
        "- ReLU seringkali bekerja lebih baik karena kemampuannya menangani masalah vanishing gradient, terutama pada jaringan dengan beberapa hidden layer.\n",
        "\n",
        "**3. Fungsi Aktivasi Softmax:**\n",
        "\n",
        "- Memberikan akurasi 0.868293, yang cukup baik tetapi lebih rendah dibandingkan ReLU.\n",
        "\n",
        "- Softmax lebih sering digunakan pada layer output untuk klasifikasi, bukan di hidden layer.\n",
        "\n",
        "**4. Fungsi Aktivasi Tanh:**\n",
        "\n",
        "- Memberikan akurasi 0.873171, yang sedikit lebih baik dibandingkan Softmax tetapi masih lebih rendah dibandingkan ReLU.\n",
        "\n",
        "- Tanh cenderung lebih cocok untuk data yang terdistribusi secara simetris.\n",
        "\n",
        "**Kesimpulan:**\n",
        "\n",
        "- Fungsi aktivasi ReLU adalah yang terbaik untuk eksperimen ini, menghasilkan akurasi tertinggi.\n",
        "\n",
        "- Fungsi aktivasi seperti Identity dan Sigmoid tidak cocok untuk data atau konfigurasi model ini.\n",
        "\n",
        "- ReLU disarankan untuk digunakan sebagai fungsi aktivasi default pada hidden layers untuk data serupa."
      ],
      "metadata": {
        "id": "Zhrz49VXanHF"
      }
    },
    {
      "cell_type": "markdown",
      "source": [
        "**Eksperimen Epoch dan Learning Rate**\n",
        "\n",
        "Kita juga dapat mencoba variasi jumlah epoch dan learning rate untuk memahami pengaruhnya terhadap performa model."
      ],
      "metadata": {
        "id": "PlW54JzHa9uy"
      }
    },
    {
      "cell_type": "code",
      "source": [
        "epoch_variations = [1, 10, 25, 50, 100, 250]\n",
        "learning_rate_variations = [10, 1, 0.1, 0.01, 0.001, 0.0001]\n",
        "\n",
        "epoch_lr_results = []\n",
        "\n",
        "for epochs in epoch_variations:\n",
        "    for lr in learning_rate_variations:\n",
        "        model = MLPModel(input_size, hidden_layers, neurons, activation_function)\n",
        "        criterion = nn.CrossEntropyLoss()\n",
        "        optimizer = optim.Adam(model.parameters(), lr=lr)\n",
        "        train_loss, test_accuracy = train_model(model, train_loader, test_loader, criterion, optimizer, epochs, device)\n",
        "\n",
        "        epoch_lr_results.append({\n",
        "            \"epochs\": epochs,\n",
        "            \"learning_rate\": lr,\n",
        "            \"final_accuracy\": test_accuracy[-1]\n",
        "        })\n",
        "\n",
        "# Konversi hasil ke DataFrame\n",
        "epoch_lr_results_df = pd.DataFrame(epoch_lr_results)\n",
        "print(epoch_lr_results_df)\n"
      ],
      "metadata": {
        "colab": {
          "base_uri": "https://localhost:8080/"
        },
        "id": "3Zn2fIk6bEDN",
        "outputId": "9203125b-22c8-4b3c-e644-beb31ca36923"
      },
      "execution_count": 8,
      "outputs": [
        {
          "output_type": "stream",
          "name": "stdout",
          "text": [
            "    epochs  learning_rate  final_accuracy\n",
            "0        1        10.0000        0.502439\n",
            "1        1         1.0000        0.507317\n",
            "2        1         0.1000        0.819512\n",
            "3        1         0.0100        0.770732\n",
            "4        1         0.0010        0.814634\n",
            "5        1         0.0001        0.502439\n",
            "6       10        10.0000        0.502439\n",
            "7       10         1.0000        0.497561\n",
            "8       10         0.1000        0.819512\n",
            "9       10         0.0100        0.907317\n",
            "10      10         0.0010        0.819512\n",
            "11      10         0.0001        0.702439\n",
            "12      25        10.0000        0.502439\n",
            "13      25         1.0000        0.502439\n",
            "14      25         0.1000        0.824390\n",
            "15      25         0.0100        0.985366\n",
            "16      25         0.0010        0.848780\n",
            "17      25         0.0001        0.765854\n",
            "18      50        10.0000        0.497561\n",
            "19      50         1.0000        0.497561\n",
            "20      50         0.1000        0.834146\n",
            "21      50         0.0100        0.985366\n",
            "22      50         0.0010        0.912195\n",
            "23      50         0.0001        0.819512\n",
            "24     100        10.0000        0.517073\n",
            "25     100         1.0000        0.512195\n",
            "26     100         0.1000        0.760976\n",
            "27     100         0.0100        0.985366\n",
            "28     100         0.0010        0.995122\n",
            "29     100         0.0001        0.814634\n",
            "30     250        10.0000        0.507317\n",
            "31     250         1.0000        0.536585\n",
            "32     250         0.1000        0.687805\n",
            "33     250         0.0100        0.985366\n",
            "34     250         0.0010        0.985366\n",
            "35     250         0.0001        0.848780\n"
          ]
        }
      ]
    },
    {
      "cell_type": "markdown",
      "source": [
        "**1. Pengaruh Learning Rate:**\n",
        "\n",
        "- Learning rate yang terlalu besar (10.0): Akurasi sangat rendah di semua jumlah epoch (sekitar 0.502439 hingga 0.517073), menunjukkan bahwa model tidak mampu belajar dengan baik.\n",
        "\n",
        "- Learning rate sedang (0.1 dan 0.01): Memberikan akurasi yang cukup baik, terutama pada jumlah epoch lebih besar (50, 100, 250). Misalnya, pada learning rate 0.01 dengan 100 epoch, akurasi mencapai 0.995122, yang merupakan akurasi tertinggi.\n",
        "\n",
        "- Learning rate kecil (0.0001): Akurasi relatif rendah di semua jumlah epoch (sekitar 0.765854 hingga 0.848780), menunjukkan bahwa model belajar terlalu lambat.\n",
        "\n",
        "**2. Pengaruh Jumlah Epoch:**\n",
        "\n",
        "- Epoch rendah (1 hingga 10): Dengan learning rate yang sesuai (misalnya 0.01), akurasi meningkat tetapi belum maksimal.\n",
        "\n",
        "- Epoch sedang hingga tinggi (25 hingga 250): Learning rate optimal (0.01) memberikan performa terbaik pada jumlah epoch yang lebih tinggi, dengan akurasi puncak 0.995122 pada 100 epoch.\n",
        "\n",
        "**3. Kombinasi Optimal:**\n",
        "\n",
        "- Kombinasi terbaik adalah learning rate 0.01 dengan 100 epoch, menghasilkan akurasi 0.995122.\n",
        "\n",
        "- Penambahan epoch hingga 250 dengan learning rate 0.01 mempertahankan akurasi tinggi tetapi tidak memberikan peningkatan yang signifikan.\n",
        "\n",
        "**Kesimpulan:**\n",
        "\n",
        "- Learning rate 0.01 memberikan hasil terbaik di sebagian besar kasus.\n",
        "\n",
        "- Jumlah epoch optimal dalam eksperimen ini adalah sekitar 100, di mana model mencapai akurasi maksimal.\n",
        "\n",
        "- Learning rate yang terlalu besar (10.0) atau terlalu kecil (0.0001) tidak efektif dalam proses pelatihan."
      ],
      "metadata": {
        "id": "NtUD4KD2bw0L"
      }
    },
    {
      "cell_type": "markdown",
      "source": [
        "**Eksperimen Ukuran Batch**\n",
        "\n",
        "Terakhir, kita mencoba ukuran batch yang berbeda (16, 32, 64, 128, 256, 512) untuk memahami dampaknya."
      ],
      "metadata": {
        "id": "jkhfjavsbxEl"
      }
    },
    {
      "cell_type": "code",
      "source": [
        "batch_sizes = [16, 32, 64, 128, 256, 512]\n",
        "\n",
        "batch_results = []\n",
        "\n",
        "for batch_size in batch_sizes:\n",
        "    train_loader, test_loader = get_data_loaders(batch_size)\n",
        "    model = MLPModel(input_size, hidden_layers, neurons, activation_function)\n",
        "    criterion = nn.CrossEntropyLoss()\n",
        "    optimizer = optim.Adam(model.parameters(), lr=learning_rate)\n",
        "    train_loss, test_accuracy = train_model(model, train_loader, test_loader, criterion, optimizer, num_epochs, device)\n",
        "\n",
        "    batch_results.append({\n",
        "        \"batch_size\": batch_size,\n",
        "        \"final_accuracy\": test_accuracy[-1]\n",
        "    })\n",
        "\n",
        "# Konversi hasil ke DataFrame\n",
        "batch_results_df = pd.DataFrame(batch_results)\n",
        "print(batch_results_df)\n"
      ],
      "metadata": {
        "colab": {
          "base_uri": "https://localhost:8080/"
        },
        "id": "TXMCjZo-b2wE",
        "outputId": "8830b555-1072-4c0e-88b6-7f2ef1804997"
      },
      "execution_count": 9,
      "outputs": [
        {
          "output_type": "stream",
          "name": "stdout",
          "text": [
            "   batch_size  final_accuracy\n",
            "0          16        0.926829\n",
            "1          32        0.931707\n",
            "2          64        0.882927\n",
            "3         128        0.839024\n",
            "4         256        0.829268\n",
            "5         512        0.804878\n"
          ]
        }
      ]
    },
    {
      "cell_type": "markdown",
      "source": [
        "1. Batch Size Kecil (16 dan 32):\n",
        "\n",
        "- Batch size kecil memberikan akurasi yang lebih tinggi dibandingkan batch size yang lebih besar.\n",
        "\n",
        "- Akurasi tertinggi adalah 0.931707 dengan batch size 32, menunjukkan bahwa model mampu belajar dengan baik ketika data diproses dalam batch yang lebih kecil.\n",
        "\n",
        "2. Batch Size Sedang hingga Besar (64 hingga 512):\n",
        "\n",
        "- Akurasi menurun seiring bertambahnya ukuran batch.\n",
        "\n",
        "- Dengan batch size 64, akurasi masih cukup baik (0.882927), tetapi penurunan mulai terlihat pada batch size 128 dan lebih besar.\n",
        "\n",
        "- Batch size 512 memiliki akurasi terendah (0.804878), menunjukkan bahwa model kurang mampu menangkap pola dengan baik saat data diproses dalam jumlah besar sekaligus.\n",
        "\n",
        "3. Kombinasi Optimal:\n",
        "\n",
        "- Batch size 32 memberikan kombinasi terbaik antara stabilitas pelatihan dan akurasi tinggi.\n",
        "\n",
        "- Batch size 16 juga memberikan hasil yang baik (0.926829) tetapi sedikit lebih rendah dibandingkan batch size 32.\n",
        "\n",
        "**Kesimpulan:**\n",
        "\n",
        "- Batch size kecil hingga sedang (16 atau 32) memberikan performa terbaik.\n",
        "\n",
        "- Batch size besar (128 ke atas) menurunkan akurasi, kemungkinan karena kurangnya variasi dalam pembaruan gradien pada setiap iterasi."
      ],
      "metadata": {
        "id": "iUZirWOucc--"
      }
    },
    {
      "cell_type": "markdown",
      "source": [
        "**Langkah 6: Analisis Hasil**\n",
        "Setelah eksperimen selesai, analisis hasil menggunakan:\n",
        "\n",
        "1. Tabel hasil eksperimen untuk melihat akurasi model.\n",
        "\n",
        "2. Visualisasi grafis seperti grafik hubungan antara jumlah hidden layer, neuron, fungsi aktivasi, dll., dengan akurasi."
      ],
      "metadata": {
        "id": "IdoWIznvcdD0"
      }
    },
    {
      "cell_type": "code",
      "source": [
        "import matplotlib.pyplot as plt\n",
        "\n",
        "# Visualisasi hasil hidden layers vs. neurons\n",
        "plt.figure(figsize=(10, 6))\n",
        "for hidden_layers in hidden_layer_variations:\n",
        "    subset = results_df[results_df[\"hidden_layers\"] == hidden_layers]\n",
        "    plt.plot(subset[\"neurons\"], subset[\"final_accuracy\"], label=f\"{hidden_layers} Hidden Layers\")\n",
        "plt.xlabel(\"Number of Neurons\")\n",
        "plt.ylabel(\"Accuracy\")\n",
        "plt.legend()\n",
        "plt.title(\"Hidden Layers vs. Neurons Performance\")\n",
        "plt.show()\n",
        "\n",
        "# Visualisasi hasil fungsi aktivasi\n",
        "plt.figure(figsize=(8, 5))\n",
        "plt.bar(activation_results_df[\"activation_function\"], activation_results_df[\"final_accuracy\"])\n",
        "plt.xlabel(\"Activation Function\")\n",
        "plt.ylabel(\"Accuracy\")\n",
        "plt.title(\"Activation Function Performance\")\n",
        "plt.show()"
      ],
      "metadata": {
        "colab": {
          "base_uri": "https://localhost:8080/",
          "height": 1000
        },
        "id": "fLqnV8rWcga4",
        "outputId": "632be9c4-d420-4f18-f840-8c78a71e0ed3"
      },
      "execution_count": 10,
      "outputs": [
        {
          "output_type": "display_data",
          "data": {
            "text/plain": [
              "<Figure size 1000x600 with 1 Axes>"
            ],
            "image/png": "[encoded data removed]"
          },
          "metadata": {}
        },
        {
          "output_type": "display_data",
          "data": {
            "text/plain": [
              "<Figure size 800x500 with 1 Axes>"
            ],
            "image/png": "[encoded data removed]"
          },
          "metadata": {}
        }
      ]
    },
    {
      "cell_type": "markdown",
      "source": [
        "**Grafik 1: Hidden Layers vs. Neurons Performance**\n",
        "\n",
        "1. Pengaruh Jumlah Hidden Layer:\n",
        "\n",
        "- Model dengan 2 hidden layers menghasilkan akurasi tertinggi dibandingkan dengan 1 atau 3 hidden layers.\n",
        "\n",
        "- Model dengan 3 hidden layers memiliki performa yang sedikit lebih rendah dibandingkan dengan 2 hidden layers, terutama ketika jumlah neuron meningkat.\n",
        "\n",
        "2. Pengaruh Jumlah Neuron:\n",
        "\n",
        "- Jumlah neuron yang optimal adalah sekitar 32 neuron untuk model dengan 2 hidden layers, di mana akurasi mencapai puncaknya.\n",
        "\n",
        "- Untuk model dengan 1 hidden layer, akurasi meningkat lebih perlahan dengan bertambahnya jumlah neuron.\n",
        "\n",
        "- Model dengan 3 hidden layers menunjukkan tren peningkatan, tetapi setelah 32 neuron, akurasi mulai menurun.\n",
        "\n",
        "**Kesimpulan:**\n",
        "\n",
        "- Kombinasi terbaik adalah 2 hidden layers dengan 32 neuron.\n",
        "\n",
        "**Grafik 2: Activation Function Performance**\n",
        "\n",
        "- ReLU adalah fungsi aktivasi terbaik dengan akurasi tertinggi dibandingkan fungsi aktivasi lainnya.\n",
        "\n",
        "- Softmax dan Tanh memberikan performa yang hampir setara tetapi masih lebih rendah daripada ReLU.\n",
        "\n",
        "- Identity dan Sigmoid menunjukkan akurasi terendah, kemungkinan karena kurang optimal untuk hidden layers.\n",
        "\n",
        "**Kesimpulan:**\n",
        "\n",
        "- ReLU adalah fungsi aktivasi yang paling cocok untuk model ini, membantu menangani masalah vanishing gradient dan meningkatkan akurasi.\n",
        "\n",
        "- Secara keseluruhan, 2 hidden layers dengan 32 neuron dan ReLU sebagai fungsi aktivasi adalah konfigurasi terbaik berdasarkan hasil ini."
      ],
      "metadata": {
        "id": "qqW3llcudH5q"
      }
    }
  ]
}