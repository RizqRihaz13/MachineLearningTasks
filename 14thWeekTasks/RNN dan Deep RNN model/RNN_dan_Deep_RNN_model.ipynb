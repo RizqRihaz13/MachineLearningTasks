{
  "nbformat": 4,
  "nbformat_minor": 0,
  "metadata": {
    "colab": {
      "provenance": []
    },
    "kernelspec": {
      "name": "python3",
      "display_name": "Python 3"
    },
    "language_info": {
      "name": "python"
    }
  },
  "cells": [
    {
      "cell_type": "markdown",
      "source": [
        "**Langkah 1: Memuat dan Memahami Dataset**\n",
        "\n",
        "Sebelum memulai eksperimen, kita memuat dataset wine quality dan melakukan pra-pemrosesan dasar, termasuk normalisasi fitur dan pembagian data menjadi set pelatihan dan pengujian."
      ],
      "metadata": {
        "id": "KmE6i5ZJLAXt"
      }
    },
    {
      "cell_type": "code",
      "execution_count": 4,
      "metadata": {
        "colab": {
          "base_uri": "https://localhost:8080/",
          "height": 0
        },
        "id": "wpoTD6e9K0Vu",
        "outputId": "62125741-9b37-4177-ee1f-a7ae59520d15"
      },
      "outputs": [
        {
          "output_type": "stream",
          "name": "stdout",
          "text": [
            "   fixed acidity  volatile acidity  citric acid  residual sugar  chlorides  \\\n",
            "0            7.4              0.70         0.00             1.9      0.076   \n",
            "1            7.8              0.88         0.00             2.6      0.098   \n",
            "2            7.8              0.76         0.04             2.3      0.092   \n",
            "3           11.2              0.28         0.56             1.9      0.075   \n",
            "4            7.4              0.70         0.00             1.9      0.076   \n",
            "\n",
            "   free sulfur dioxide  total sulfur dioxide  density    pH  sulphates  \\\n",
            "0                 11.0                  34.0   0.9978  3.51       0.56   \n",
            "1                 25.0                  67.0   0.9968  3.20       0.68   \n",
            "2                 15.0                  54.0   0.9970  3.26       0.65   \n",
            "3                 17.0                  60.0   0.9980  3.16       0.58   \n",
            "4                 11.0                  34.0   0.9978  3.51       0.56   \n",
            "\n",
            "   alcohol  quality  \n",
            "0      9.4        5  \n",
            "1      9.8        5  \n",
            "2      9.8        5  \n",
            "3      9.8        6  \n",
            "4      9.4        5  \n",
            "<class 'pandas.core.frame.DataFrame'>\n",
            "RangeIndex: 1599 entries, 0 to 1598\n",
            "Data columns (total 12 columns):\n",
            " #   Column                Non-Null Count  Dtype  \n",
            "---  ------                --------------  -----  \n",
            " 0   fixed acidity         1599 non-null   float64\n",
            " 1   volatile acidity      1599 non-null   float64\n",
            " 2   citric acid           1599 non-null   float64\n",
            " 3   residual sugar        1599 non-null   float64\n",
            " 4   chlorides             1599 non-null   float64\n",
            " 5   free sulfur dioxide   1599 non-null   float64\n",
            " 6   total sulfur dioxide  1599 non-null   float64\n",
            " 7   density               1599 non-null   float64\n",
            " 8   pH                    1599 non-null   float64\n",
            " 9   sulphates             1599 non-null   float64\n",
            " 10  alcohol               1599 non-null   float64\n",
            " 11  quality               1599 non-null   int64  \n",
            "dtypes: float64(11), int64(1)\n",
            "memory usage: 150.0 KB\n",
            "None\n"
          ]
        }
      ],
      "source": [
        "import pandas as pd\n",
        "from sklearn.model_selection import train_test_split\n",
        "from sklearn.preprocessing import StandardScaler\n",
        "\n",
        "# Memuat dataset\n",
        "file_path = '/content/winequality-red.csv'  # Ganti dengan path dataset Anda\n",
        "data = pd.read_csv(file_path, sep=';')\n",
        "\n",
        "# Menampilkan beberapa baris dataset untuk memahami strukturnya\n",
        "print(data.head())\n",
        "\n",
        "# Menampilkan informasi dataset\n",
        "print(data.info())\n",
        "\n",
        "# Memisahkan fitur (X) dan target (y)\n",
        "X = data.drop(columns=['quality'])\n",
        "y = data['quality']\n",
        "\n",
        "# Normalisasi fitur menggunakan StandardScaler\n",
        "scaler = StandardScaler()\n",
        "X_scaled = scaler.fit_transform(X)\n",
        "\n",
        "# Menyesuaikan nilai target agar dimulai dari 0\n",
        "y_adjusted = y - y.min()\n",
        "\n",
        "# Perbarui pembagian dataset\n",
        "X_train, X_test, y_train, y_test = train_test_split(X_scaled, y_adjusted, test_size=0.2, random_state=42, stratify=y_adjusted)\n"
      ]
    },
    {
      "cell_type": "markdown",
      "source": [
        "**Penjelasan Output:**\n",
        "\n",
        "Data berhasil dimuat, terdiri dari 11 fitur input (seperti acidity, alcohol, dan lainnya) dan 1 target output (quality)."
      ],
      "metadata": {
        "id": "QUeQZh21LGj5"
      }
    },
    {
      "cell_type": "markdown",
      "source": [
        "**Langkah 2: Membangun Model RNN**\n",
        "\n",
        "Model RNN dirancang untuk menangkap hubungan sekuensial dalam data. Pada kasus ini, kita menggunakan RNN sederhana dengan opsi pooling (MaxPooling atau AvgPooling) untuk menghasilkan representasi yang lebih ringkas."
      ],
      "metadata": {
        "id": "EkRKMjwtLNyT"
      }
    },
    {
      "cell_type": "code",
      "source": [
        "import torch\n",
        "import torch.nn as nn\n",
        "\n",
        "class RNNModel(nn.Module):\n",
        "    def __init__(self, input_size, hidden_size, num_classes, pooling_type=\"max\"):\n",
        "        super(RNNModel, self).__init__()\n",
        "        self.rnn = nn.RNN(input_size, hidden_size, batch_first=True)\n",
        "        self.pooling_type = pooling_type\n",
        "        self.fc = nn.Linear(hidden_size, num_classes)\n",
        "\n",
        "    def forward(self, x):\n",
        "        out, _ = self.rnn(x.unsqueeze(1))  # Tambahkan dimensi waktu\n",
        "        if self.pooling_type == \"max\":\n",
        "            out, _ = torch.max(out, dim=1)\n",
        "        else:  # AvgPooling\n",
        "            out = torch.mean(out, dim=1)\n",
        "        out = self.fc(out)\n",
        "        return out\n"
      ],
      "metadata": {
        "id": "tlAS_eErLTOh"
      },
      "execution_count": 2,
      "outputs": []
    },
    {
      "cell_type": "markdown",
      "source": [
        "**Penjelasan:**\n",
        "\n",
        "- `input_size`: Jumlah fitur dalam input (11 untuk dataset wine).\n",
        "- `hidden_size`: Ukuran lapisan tersembunyi yang akan diuji pada eksperimen.\n",
        "- `pooling_type`: Tipe pooling untuk merangkum informasi dari output RNN."
      ],
      "metadata": {
        "id": "sOC4DFBmLWYX"
      }
    },
    {
      "cell_type": "markdown",
      "source": [
        "**Langkah 3: Training dan Evaluasi**\n",
        "\n",
        "Pada langkah ini, kita melatih model menggunakan kombinasi parameter seperti hidden size, pooling type, optimizer, dan epoch. Kemudian juga menggunakan scheduler untuk mengatur learning rate."
      ],
      "metadata": {
        "id": "InFIZBbhLnUh"
      }
    },
    {
      "cell_type": "code",
      "source": [
        "from torch.utils.data import DataLoader, TensorDataset\n",
        "import torch.optim as optim\n",
        "from sklearn.metrics import accuracy_score\n",
        "\n",
        "# Konversi data ke tensor PyTorch\n",
        "X_train_tensor = torch.tensor(X_train, dtype=torch.float32)\n",
        "y_train_tensor = torch.tensor(y_train.values, dtype=torch.long)\n",
        "X_test_tensor = torch.tensor(X_test, dtype=torch.float32)\n",
        "y_test_tensor = torch.tensor(y_test.values, dtype=torch.long)\n",
        "\n",
        "# DataLoader untuk batch training\n",
        "train_dataset = TensorDataset(X_train_tensor, y_train_tensor)\n",
        "test_dataset = TensorDataset(X_test_tensor, y_test_tensor)\n",
        "train_loader = DataLoader(train_dataset, batch_size=32, shuffle=True)\n",
        "test_loader = DataLoader(test_dataset, batch_size=32, shuffle=False)\n",
        "\n",
        "# Fungsi evaluasi\n",
        "def evaluate_model(model, dataloader):\n",
        "    model.eval()\n",
        "    y_pred, y_true = [], []\n",
        "    with torch.no_grad():\n",
        "        for X_batch, y_batch in dataloader:\n",
        "            outputs = model(X_batch)\n",
        "            _, predicted = torch.max(outputs, 1)\n",
        "            y_pred.extend(predicted.tolist())\n",
        "            y_true.extend(y_batch.tolist())\n",
        "    return accuracy_score(y_true, y_pred)\n",
        "\n",
        "# Parameter eksperimen\n",
        "input_size = X_train.shape[1]\n",
        "hidden_sizes = [16, 32, 64]\n",
        "pooling_types = [\"max\", \"avg\"]\n",
        "optimizers = [\"SGD\", \"RMSProp\", \"Adam\"]\n",
        "num_epochs_list = [5, 50, 100, 250, 350]\n",
        "\n",
        "# Loop untuk eksperimen\n",
        "for hidden_size in hidden_sizes:\n",
        "    for pooling_type in pooling_types:\n",
        "        for opt_name in optimizers:\n",
        "            # Model, optimizer, dan scheduler\n",
        "            model = RNNModel(input_size=input_size, hidden_size=hidden_size, num_classes=len(y.unique()), pooling_type=pooling_type)\n",
        "            if opt_name == \"SGD\":\n",
        "                optimizer = optim.SGD(model.parameters(), lr=0.01)\n",
        "            elif opt_name == \"RMSProp\":\n",
        "                optimizer = optim.RMSprop(model.parameters(), lr=0.01)\n",
        "            elif opt_name == \"Adam\":\n",
        "                optimizer = optim.Adam(model.parameters(), lr=0.001)\n",
        "            criterion = nn.CrossEntropyLoss()\n",
        "            scheduler = optim.lr_scheduler.StepLR(optimizer, step_size=50, gamma=0.1)\n",
        "\n",
        "            # Training loop\n",
        "            for num_epochs in num_epochs_list:\n",
        "                model.train()\n",
        "                for epoch in range(num_epochs):\n",
        "                    for X_batch, y_batch in train_loader:\n",
        "                        optimizer.zero_grad()\n",
        "                        outputs = model(X_batch)\n",
        "                        loss = criterion(outputs, y_batch)\n",
        "                        loss.backward()\n",
        "                        optimizer.step()\n",
        "                    scheduler.step()\n",
        "\n",
        "                # Evaluasi\n",
        "                accuracy = evaluate_model(model, test_loader)\n",
        "                print(f\"Hidden: {hidden_size}, Pool: {pooling_type}, Opt: {opt_name}, Epochs: {num_epochs}, Acc: {accuracy:.4f}\")\n"
      ],
      "metadata": {
        "colab": {
          "base_uri": "https://localhost:8080/",
          "height": 0
        },
        "id": "4Rg2Ar5rLmwJ",
        "outputId": "5fa8da3b-efbf-4719-955e-aba367b68f7b"
      },
      "execution_count": 6,
      "outputs": [
        {
          "output_type": "stream",
          "name": "stdout",
          "text": [
            "Hidden: 16, Pool: max, Opt: SGD, Epochs: 5, Acc: 0.5188\n",
            "Hidden: 16, Pool: max, Opt: SGD, Epochs: 50, Acc: 0.5844\n",
            "Hidden: 16, Pool: max, Opt: SGD, Epochs: 100, Acc: 0.5844\n",
            "Hidden: 16, Pool: max, Opt: SGD, Epochs: 250, Acc: 0.5844\n",
            "Hidden: 16, Pool: max, Opt: SGD, Epochs: 350, Acc: 0.5844\n",
            "Hidden: 16, Pool: max, Opt: RMSProp, Epochs: 5, Acc: 0.6094\n",
            "Hidden: 16, Pool: max, Opt: RMSProp, Epochs: 50, Acc: 0.5906\n",
            "Hidden: 16, Pool: max, Opt: RMSProp, Epochs: 100, Acc: 0.6000\n",
            "Hidden: 16, Pool: max, Opt: RMSProp, Epochs: 250, Acc: 0.6000\n",
            "Hidden: 16, Pool: max, Opt: RMSProp, Epochs: 350, Acc: 0.6000\n",
            "Hidden: 16, Pool: max, Opt: Adam, Epochs: 5, Acc: 0.5500\n",
            "Hidden: 16, Pool: max, Opt: Adam, Epochs: 50, Acc: 0.6031\n",
            "Hidden: 16, Pool: max, Opt: Adam, Epochs: 100, Acc: 0.6062\n",
            "Hidden: 16, Pool: max, Opt: Adam, Epochs: 250, Acc: 0.6062\n",
            "Hidden: 16, Pool: max, Opt: Adam, Epochs: 350, Acc: 0.6062\n",
            "Hidden: 16, Pool: avg, Opt: SGD, Epochs: 5, Acc: 0.5719\n",
            "Hidden: 16, Pool: avg, Opt: SGD, Epochs: 50, Acc: 0.6031\n",
            "Hidden: 16, Pool: avg, Opt: SGD, Epochs: 100, Acc: 0.6031\n",
            "Hidden: 16, Pool: avg, Opt: SGD, Epochs: 250, Acc: 0.6031\n",
            "Hidden: 16, Pool: avg, Opt: SGD, Epochs: 350, Acc: 0.6031\n",
            "Hidden: 16, Pool: avg, Opt: RMSProp, Epochs: 5, Acc: 0.5813\n",
            "Hidden: 16, Pool: avg, Opt: RMSProp, Epochs: 50, Acc: 0.5906\n",
            "Hidden: 16, Pool: avg, Opt: RMSProp, Epochs: 100, Acc: 0.5750\n",
            "Hidden: 16, Pool: avg, Opt: RMSProp, Epochs: 250, Acc: 0.5781\n",
            "Hidden: 16, Pool: avg, Opt: RMSProp, Epochs: 350, Acc: 0.5781\n",
            "Hidden: 16, Pool: avg, Opt: Adam, Epochs: 5, Acc: 0.5656\n",
            "Hidden: 16, Pool: avg, Opt: Adam, Epochs: 50, Acc: 0.6094\n",
            "Hidden: 16, Pool: avg, Opt: Adam, Epochs: 100, Acc: 0.6031\n",
            "Hidden: 16, Pool: avg, Opt: Adam, Epochs: 250, Acc: 0.6031\n",
            "Hidden: 16, Pool: avg, Opt: Adam, Epochs: 350, Acc: 0.6031\n",
            "Hidden: 32, Pool: max, Opt: SGD, Epochs: 5, Acc: 0.5031\n",
            "Hidden: 32, Pool: max, Opt: SGD, Epochs: 50, Acc: 0.6000\n",
            "Hidden: 32, Pool: max, Opt: SGD, Epochs: 100, Acc: 0.5969\n",
            "Hidden: 32, Pool: max, Opt: SGD, Epochs: 250, Acc: 0.5969\n",
            "Hidden: 32, Pool: max, Opt: SGD, Epochs: 350, Acc: 0.5969\n",
            "Hidden: 32, Pool: max, Opt: RMSProp, Epochs: 5, Acc: 0.5781\n",
            "Hidden: 32, Pool: max, Opt: RMSProp, Epochs: 50, Acc: 0.6094\n",
            "Hidden: 32, Pool: max, Opt: RMSProp, Epochs: 100, Acc: 0.6094\n",
            "Hidden: 32, Pool: max, Opt: RMSProp, Epochs: 250, Acc: 0.6125\n",
            "Hidden: 32, Pool: max, Opt: RMSProp, Epochs: 350, Acc: 0.6125\n",
            "Hidden: 32, Pool: max, Opt: Adam, Epochs: 5, Acc: 0.5719\n",
            "Hidden: 32, Pool: max, Opt: Adam, Epochs: 50, Acc: 0.6031\n",
            "Hidden: 32, Pool: max, Opt: Adam, Epochs: 100, Acc: 0.6094\n",
            "Hidden: 32, Pool: max, Opt: Adam, Epochs: 250, Acc: 0.6094\n",
            "Hidden: 32, Pool: max, Opt: Adam, Epochs: 350, Acc: 0.6094\n",
            "Hidden: 32, Pool: avg, Opt: SGD, Epochs: 5, Acc: 0.5563\n",
            "Hidden: 32, Pool: avg, Opt: SGD, Epochs: 50, Acc: 0.5969\n",
            "Hidden: 32, Pool: avg, Opt: SGD, Epochs: 100, Acc: 0.5969\n",
            "Hidden: 32, Pool: avg, Opt: SGD, Epochs: 250, Acc: 0.5969\n",
            "Hidden: 32, Pool: avg, Opt: SGD, Epochs: 350, Acc: 0.5969\n",
            "Hidden: 32, Pool: avg, Opt: RMSProp, Epochs: 5, Acc: 0.6062\n",
            "Hidden: 32, Pool: avg, Opt: RMSProp, Epochs: 50, Acc: 0.6375\n",
            "Hidden: 32, Pool: avg, Opt: RMSProp, Epochs: 100, Acc: 0.6281\n",
            "Hidden: 32, Pool: avg, Opt: RMSProp, Epochs: 250, Acc: 0.6281\n",
            "Hidden: 32, Pool: avg, Opt: RMSProp, Epochs: 350, Acc: 0.6281\n",
            "Hidden: 32, Pool: avg, Opt: Adam, Epochs: 5, Acc: 0.5750\n",
            "Hidden: 32, Pool: avg, Opt: Adam, Epochs: 50, Acc: 0.6000\n",
            "Hidden: 32, Pool: avg, Opt: Adam, Epochs: 100, Acc: 0.5938\n",
            "Hidden: 32, Pool: avg, Opt: Adam, Epochs: 250, Acc: 0.5938\n",
            "Hidden: 32, Pool: avg, Opt: Adam, Epochs: 350, Acc: 0.5938\n",
            "Hidden: 64, Pool: max, Opt: SGD, Epochs: 5, Acc: 0.5375\n",
            "Hidden: 64, Pool: max, Opt: SGD, Epochs: 50, Acc: 0.6000\n",
            "Hidden: 64, Pool: max, Opt: SGD, Epochs: 100, Acc: 0.5969\n",
            "Hidden: 64, Pool: max, Opt: SGD, Epochs: 250, Acc: 0.5969\n",
            "Hidden: 64, Pool: max, Opt: SGD, Epochs: 350, Acc: 0.5969\n",
            "Hidden: 64, Pool: max, Opt: RMSProp, Epochs: 5, Acc: 0.5938\n",
            "Hidden: 64, Pool: max, Opt: RMSProp, Epochs: 50, Acc: 0.6031\n",
            "Hidden: 64, Pool: max, Opt: RMSProp, Epochs: 100, Acc: 0.5969\n",
            "Hidden: 64, Pool: max, Opt: RMSProp, Epochs: 250, Acc: 0.5969\n",
            "Hidden: 64, Pool: max, Opt: RMSProp, Epochs: 350, Acc: 0.5969\n",
            "Hidden: 64, Pool: max, Opt: Adam, Epochs: 5, Acc: 0.5719\n",
            "Hidden: 64, Pool: max, Opt: Adam, Epochs: 50, Acc: 0.6094\n",
            "Hidden: 64, Pool: max, Opt: Adam, Epochs: 100, Acc: 0.6031\n",
            "Hidden: 64, Pool: max, Opt: Adam, Epochs: 250, Acc: 0.6031\n",
            "Hidden: 64, Pool: max, Opt: Adam, Epochs: 350, Acc: 0.6031\n",
            "Hidden: 64, Pool: avg, Opt: SGD, Epochs: 5, Acc: 0.5312\n",
            "Hidden: 64, Pool: avg, Opt: SGD, Epochs: 50, Acc: 0.5875\n",
            "Hidden: 64, Pool: avg, Opt: SGD, Epochs: 100, Acc: 0.5938\n",
            "Hidden: 64, Pool: avg, Opt: SGD, Epochs: 250, Acc: 0.5938\n",
            "Hidden: 64, Pool: avg, Opt: SGD, Epochs: 350, Acc: 0.5938\n",
            "Hidden: 64, Pool: avg, Opt: RMSProp, Epochs: 5, Acc: 0.6062\n",
            "Hidden: 64, Pool: avg, Opt: RMSProp, Epochs: 50, Acc: 0.6562\n",
            "Hidden: 64, Pool: avg, Opt: RMSProp, Epochs: 100, Acc: 0.6438\n",
            "Hidden: 64, Pool: avg, Opt: RMSProp, Epochs: 250, Acc: 0.6438\n",
            "Hidden: 64, Pool: avg, Opt: RMSProp, Epochs: 350, Acc: 0.6438\n",
            "Hidden: 64, Pool: avg, Opt: Adam, Epochs: 5, Acc: 0.5813\n",
            "Hidden: 64, Pool: avg, Opt: Adam, Epochs: 50, Acc: 0.6031\n",
            "Hidden: 64, Pool: avg, Opt: Adam, Epochs: 100, Acc: 0.6031\n",
            "Hidden: 64, Pool: avg, Opt: Adam, Epochs: 250, Acc: 0.6031\n",
            "Hidden: 64, Pool: avg, Opt: Adam, Epochs: 350, Acc: 0.6031\n"
          ]
        }
      ]
    },
    {
      "cell_type": "markdown",
      "source": [
        "1. Tren Akurasi Berdasarkan Hidden Size\n",
        "- Hidden Size 16:\n",
        "  - Pooling Avg dengan optimizer Adam mencapai akurasi 60.62% pada 350 epoch.\n",
        "  - Pooling Max dengan optimizer RMSProp mencapai hasil terbaik 60.00%\n",
        "  - SGD memberikan hasil yang stagnan di 58.44% setelah 50 epoch.\n",
        "\n",
        "- Hidden Size 32:\n",
        "  - Pooling Avg dengan optimizer RMSProp menunjukkan performa terbaik dengan akurasi 63.75% pada 50 epoch.\n",
        "  - Pooling Max dengan optimizer RMSProp juga memberikan hasil konsisten hingga 61.25%.\n",
        "\n",
        "- Hidden Size 64:\n",
        "  - Pooling Avg dengan optimizer RMSProp memberikan hasil terbaik dari seluruh eksperimen, mencapai akurasi 65.62% pada 50 epoch.\n",
        "  - Pooling Max dengan optimizer Adam mencapai 60.94%, sedikit lebih rendah dari AvgPooling.\n",
        "\n",
        "2. Pooling Type\n",
        "- AvgPooling:\n",
        "  - Konsisten memberikan akurasi lebih tinggi dibandingkan MaxPooling, terutama pada kombinasi hidden size besar dan optimizer RMSProp.\n",
        "  - Performa terbaik dengan hidden size 64 dan RMSProp.\n",
        "\n",
        "- MaxPooling:\n",
        "  - Sedikit lebih lemah dibandingkan AvgPooling, tetapi memberikan hasil yang stabil pada kombinasi tertentu (misalnya, hidden size 16 dan Adam).\n",
        "  \n",
        "3. Optimizer\n",
        "- RMSProp:\n",
        "  - Memberikan hasil terbaik secara keseluruhan.\n",
        "  - Kombinasi Hidden Size 64 + AvgPooling + RMSProp mencapai akurasi tertinggi 65.62%.\n",
        "\n",
        "- Adam:\n",
        "  - Hasil cukup baik, tetapi sering lebih rendah dari RMSProp.\n",
        "  - Performa terbaik pada hidden size 32 dan 64 dengan akurasi sekitar 60%-61%.\n",
        "\n",
        "- SGD:\n",
        "  - Hasil yang paling lemah, sering stagnan di sekitar 58%-59%.\n",
        "\n",
        "4. Epoch\n",
        "- Jumlah Epoch Optimal:\n",
        "  - Akurasi terbaik sering dicapai dalam 50-100 epoch.\n",
        "  - Penambahan epoch hingga 350 tidak menunjukkan peningkatan signifikan."
      ],
      "metadata": {
        "id": "8Dn6OIRBSHT4"
      }
    }
  ]
}